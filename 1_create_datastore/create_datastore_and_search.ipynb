{
  "cells": [
    {
      "cell_type": "markdown",
      "metadata": {
        "id": "829cc6c6-f8c3-4fc6-942b-f698be5fa1a2"
      },
      "source": [
        "# Create a Vertex AI Datastore and Search Engine\n",
        "\n",
        "<table align=\"left\">\n",
        "\n",
        "  <td>\n",
        "    <a href=\"https://colab.research.google.com/github/julienmiquel/rag/blob/main/1_create_datastore/create_datastore_and_search.ipynb\">\n",
        "      <img src=\"https://cloud.google.com/ml-engine/images/colab-logo-32px.png\" alt=\"Colab logo\"> Run in Colab\n",
        "    </a>\n",
        "  </td>\n",
        "  <td>\n",
        "    <a href=\"https://github.com/julienmiquel/rag/blob/main/1_create_datastore/create_datastore_and_search.ipynb\">\n",
        "      <img src=\"https://cloud.google.com/ml-engine/images/github-logo-32px.png\" alt=\"GitHub logo\">\n",
        "      View on GitHub\n",
        "    </a>\n",
        "  </td>\n",
        "  <td>\n",
        "    <a href=\"https://console.cloud.google.com/vertex-ai/workbench/deploy-notebook?download_url=https://raw.githubusercontent.com/julienmiquel/rag/main/search/create_datastore_and_search.ipynb\">\n",
        "      <img src=\"https://lh3.googleusercontent.com/UiNooY4LUgW_oTvpsNhPpQzsstV5W8F7rYgxgGBD85cWJoLmrOzhVs_ksK_vgx40SHs7jCqkTkCk=e14-rj-sc0xffffff-h130-w32\" alt=\"Vertex AI logo\">\n",
        "      Open in Vertex AI Workbench\n",
        "    </a>\n",
        "  </td>\n",
        "</table>\n",
        "\n",
        "<div style=\"clear: both;\"></div>\n",
        "\n",
        "<b>Share to:</b>\n",
        "\n",
        "<a href=\"https://www.linkedin.com/sharing/share-offsite/?url=https%3A//github.com/julienmiquel/rag/blob/main/search/create_datastore_and_search.ipynb\" target=\"_blank\">\n",
        "  <img width=\"20px\" src=\"https://upload.wikimedia.org/wikipedia/commons/8/81/LinkedIn_icon.svg\" alt=\"LinkedIn logo\">\n",
        "</a>\n",
        "\n",
        "<a href=\"https://bsky.app/intent/compose?text=https%3A//github.com/julienmiquel/rag/blob/main/search/create_datastore_and_search.ipynb\" target=\"_blank\">\n",
        "  <img width=\"20px\" src=\"https://upload.wikimedia.org/wikipedia/commons/7/7a/Bluesky_Logo.svg\" alt=\"Bluesky logo\">\n",
        "</a>\n",
        "\n",
        "<a href=\"https://twitter.com/intent/tweet?url=https%3A//github.com/julienmiquel/rag/blob/main/search/create_datastore_and_search.ipynb\" target=\"_blank\">\n",
        "  <img width=\"20px\" src=\"https://upload.wikimedia.org/wikipedia/commons/5/53/X_logo_2023_original.svg\" alt=\"X logo\">\n",
        "</a>\n",
        "\n",
        "<a href=\"https://reddit.com/submit?url=https%3A//github.com/julienmiquel/rag/blob/main/search/create_datastore_and_search.ipynb\" target=\"_blank\">\n",
        "  <img width=\"20px\" src=\"https://redditinc.com/hubfs/Reddit%20Inc/Brand/Reddit_Logo.png\" alt=\"Reddit logo\">\n",
        "</a>\n",
        "\n",
        "<a href=\"https://www.facebook.com/sharer/sharer.php?u=https%3A//github.com/julienmiquel/rag/blob/main/search/create_datastore_and_search.ipynb\" target=\"_blank\">\n",
        "  <img width=\"20px\" src=\"https://upload.wikimedia.org/wikipedia/commons/5/51/Facebook_f_logo_%282019%29.svg\" alt=\"Facebook logo\">\n",
        "</a>            "
      ]
    },
    {
      "cell_type": "markdown",
      "metadata": {
        "id": "0460bdbe-05db-42f8-822c-82195de8329a"
      },
      "source": [
        "---\n",
        "\n",
        "* Author(s): [Julien MIQUEL]\n",
        "* Created: 22 Nov 2024\n",
        "* Updated: 31 Jan 2025\n",
        "\n",
        "---\n",
        "\n",
        "## Objective\n",
        "\n",
        "This notebook shows how to create and populate a Vertex AI Search Datastore, how to create a search app connected to that datastore, and how to submit queries through the search engine.\n"
      ]
    },
    {
      "cell_type": "markdown",
      "metadata": {
        "id": "0b4b1050-7113-487e-aeaf-55690c831a1d"
      },
      "source": [
        "Services used in the notebook:\n",
        "\n",
        "- ✅ Vertex AI Search for document search and retrieval"
      ]
    },
    {
      "cell_type": "markdown",
      "metadata": {
        "id": "43828625-a130-449c-ba5f-6a948220f559"
      },
      "source": [
        "## Install pre-requisites\n",
        "\n",
        "If running in Colab install the pre-requisites into the runtime. Otherwise it is assumed that the notebook is running in Vertex AI Workbench."
      ]
    },
    {
      "cell_type": "code",
      "execution_count": null,
      "metadata": {
        "colab": {
          "base_uri": "https://localhost:8080/",
          "height": 515
        },
        "id": "8ea5db8a-dccc-4442-b5d7-7088d5ffb5ac",
        "outputId": "8e46392b-cd86-460d-b51d-49bf6ae0690c"
      },
      "outputs": [],
      "source": [
        "!pip install google-cloud-discoveryengine==0.12.3"
      ]
    },
    {
      "cell_type": "markdown",
      "metadata": {
        "id": "10f9e321"
      },
      "source": [
        "### Restart current runtime\n",
        "\n",
        "To use the newly installed packages in this Jupyter runtime, you must restart the runtime. You can do this by running the cell below, which will restart the current kernel."
      ]
    },
    {
      "cell_type": "code",
      "execution_count": null,
      "metadata": {
        "colab": {
          "base_uri": "https://localhost:8080/"
        },
        "id": "da755736",
        "outputId": "fd60d0a6-735b-4104-9f0f-3402e59b7119"
      },
      "outputs": [],
      "source": [
        "# Restart kernel after installs so that your environment can access the new packages\n",
        "\n",
        "import IPython\n",
        "\n",
        "app = IPython.Application.instance()\n",
        "app.kernel.do_shutdown(True)"
      ]
    },
    {
      "cell_type": "markdown",
      "metadata": {
        "id": "9c31dbe0"
      },
      "source": [
        "<div class=\"alert alert-block alert-warning\">\n",
        "<b>⚠️ The kernel is going to restart. Please wait until it is finished before continuing to the next step. ⚠️</b>\n",
        "</div>\n"
      ]
    },
    {
      "cell_type": "markdown",
      "metadata": {
        "id": "5f6a5de5-156e-4f14-99e6-3ab33e076c81"
      },
      "source": [
        "## Authenticate\n",
        "\n",
        "If running in Colab authenticate with `google.colab.google.auth` otherwise assume that running on Vertex AI Workbench."
      ]
    },
    {
      "cell_type": "code",
      "execution_count": null,
      "metadata": {
        "colab": {
          "base_uri": "https://localhost:8080/"
        },
        "id": "df3b7309-c51c-44a0-a466-b0b2733e0c28",
        "outputId": "89f4209d-2e08-40ac-d20d-1aeaa707c69c"
      },
      "outputs": [],
      "source": [
        "import sys\n",
        "\n",
        "if \"google.colab\" in sys.modules:\n",
        "    from google.colab import auth\n",
        "\n",
        "    auth.authenticate_user()"
      ]
    },
    {
      "cell_type": "markdown",
      "metadata": {
        "id": "ae7a4925-145a-40f3-9fa1-3b69a42d488d"
      },
      "source": [
        "## Configure notebook environment"
      ]
    },
    {
      "cell_type": "code",
      "execution_count": null,
      "metadata": {
        "id": "389b9e51-1ce4-4bdf-80b5-fcdc1882f853"
      },
      "outputs": [],
      "source": [
        "from google.api_core.client_options import ClientOptions\n",
        "from google.cloud import discoveryengine\n",
        "\n",
        "PROJECT_ID = \"ml-demo-384110\"#\"poc-searchv2\"  # @param {type:\"string\"}\n",
        "DATA_STORE_LOCATION = LOCATION = \"eu\"\n"
      ]
    },
    {
      "cell_type": "markdown",
      "metadata": {
        "id": "HjoerqoksBdx"
      },
      "source": [
        "Set [Application Default Credentials](https://cloud.google.com/docs/authentication/application-default-credentials)"
      ]
    },
    {
      "cell_type": "code",
      "execution_count": null,
      "metadata": {
        "colab": {
          "base_uri": "https://localhost:8080/"
        },
        "id": "s-jH2yG1rtxn",
        "outputId": "c78a4d85-8cfe-424e-e870-1b08e36b9f98"
      },
      "outputs": [],
      "source": [
        "!gcloud auth application-default login --project {PROJECT_ID}"
      ]
    },
    {
      "cell_type": "markdown",
      "metadata": {
        "id": "07f1aecd-4633-4451-b5a7-1f26e4cb2631"
      },
      "source": [
        "## Create and Populate a Datastore"
      ]
    },
    {
      "cell_type": "code",
      "execution_count": null,
      "metadata": {},
      "outputs": [],
      "source": [
        "# The datastore name can only contain lowercase letters, numbers, and hyphens\n",
        "DATASTORE_NAME = \"dev-8\"\n",
        "DATASTORE_ID = f\"{DATASTORE_NAME}\""
      ]
    },
    {
      "cell_type": "code",
      "execution_count": null,
      "metadata": {
        "id": "9a1d0021-e299-49d4-a657-2e101ae49eb6"
      },
      "outputs": [],
      "source": [
        "def create_data_store(\n",
        "    project_id: str, location: str, data_store_name: str, data_store_id: str\n",
        "):\n",
        "    # Create a client\n",
        "    client_options = (\n",
        "        ClientOptions(api_endpoint=f\"{location}-discoveryengine.googleapis.com\")\n",
        "        if location != \"global\"\n",
        "        else None\n",
        "    )\n",
        "    client = discoveryengine.DataStoreServiceClient(client_options=client_options)\n",
        "\n",
        "    # Initialize request argument(s)\n",
        "    data_store = discoveryengine.DataStore(\n",
        "        display_name=data_store_name,\n",
        "        industry_vertical=\"GENERIC\",\n",
        "        content_config='NO_CONTENT',\n",
        "        solution_types=[\"SOLUTION_TYPE_SEARCH\"],\n",
        "    )\n",
        "\n",
        "\n",
        "\n",
        "    operation = client.create_data_store(\n",
        "        request=discoveryengine.CreateDataStoreRequest(\n",
        "            parent=client.collection_path(project_id, location, \"default_collection\"),\n",
        "            data_store=data_store,\n",
        "            data_store_id=data_store_id,\n",
        "        )\n",
        "    )\n",
        "\n",
        "    # Make the request\n",
        "    # The try block is necessary to prevent execution from halting due to an error being thrown when the datastore takes a while to instantiate\n",
        "    try:\n",
        "        response = operation.result(timeout=90)\n",
        "    except:\n",
        "        print(\"long-running operation error.\")"
      ]
    },
    {
      "cell_type": "code",
      "execution_count": null,
      "metadata": {
        "id": "8a4db726-8da1-4c76-8934-944aaf5f9b53"
      },
      "outputs": [],
      "source": [
        "# Create empty datastore\n",
        "create_data_store(PROJECT_ID, LOCATION, DATASTORE_NAME, DATASTORE_ID)"
      ]
    },
    {
      "cell_type": "markdown",
      "metadata": {},
      "source": [
        "## update the datastore schema"
      ]
    },
    {
      "cell_type": "code",
      "execution_count": null,
      "metadata": {},
      "outputs": [],
      "source": [
        "\n",
        "def update_schema(\n",
        "    project_id: str,\n",
        "    location: str,\n",
        "    data_store_id: str,\n",
        "    doc_schema\n",
        "):\n",
        "    client_options = (\n",
        "        ClientOptions(api_endpoint=f\"{DATA_STORE_LOCATION}-discoveryengine.googleapis.com\")\n",
        "        if DATA_STORE_LOCATION != \"global\"\n",
        "        else None\n",
        "    )\n",
        "    client = discoveryengine.SchemaServiceClient(client_options=client_options)\n",
        "\n",
        "    schema = discoveryengine.Schema(\n",
        "        name=client.schema_path(project_id, location, data_store_id, \"default_schema\"),\n",
        "        struct_schema= doc_schema,\n",
        "    )\n",
        "\n",
        "    operation = client.update_schema(\n",
        "        request=discoveryengine.UpdateSchemaRequest(schema=schema)\n",
        "    )\n",
        "\n",
        "    print(\"Waiting for operation to complete...\")\n",
        "\n",
        "    response = operation.result()\n",
        "\n",
        "    # Handle the response\n",
        "    print(response)\n",
        "\n",
        "def get_schema(\n",
        "    project_id: str,\n",
        "    location: str,\n",
        "    data_store_id: str,\n",
        "):\n",
        "    client_options = (\n",
        "        ClientOptions(api_endpoint=f\"{DATA_STORE_LOCATION}-discoveryengine.googleapis.com\")\n",
        "        if DATA_STORE_LOCATION != \"global\"\n",
        "        else None\n",
        "    )\n",
        "    client = discoveryengine.SchemaServiceClient(client_options=client_options)\n",
        "\n",
        "    operation = client.get_schema(\n",
        "        request=discoveryengine.GetSchemaRequest(name=client.schema_path(project_id, location, data_store_id, \"default_schema\"))\n",
        "    )\n",
        "\n",
        "    print(\"Waiting for operation to complete...\")\n",
        "\n",
        "    response = operation\n",
        "\n",
        "    # Handle the response\n",
        "    print(\"done\")\n",
        "    #discoveryengine.Schema.to_json(response)\n",
        "\n",
        "\n",
        "    return response\n"
      ]
    },
    {
      "cell_type": "code",
      "execution_count": null,
      "metadata": {},
      "outputs": [],
      "source": [
        "import json\n",
        "with open(f'./struct_schema.json', 'r') as readfile:\n",
        "    data = readfile.read()\n",
        "\n",
        "struct_schema_json = json.loads(data)    \n",
        "\n",
        "update_schema(PROJECT_ID, LOCATION,  DATASTORE_ID,struct_schema_json )"
      ]
    },
    {
      "cell_type": "code",
      "execution_count": null,
      "metadata": {},
      "outputs": [],
      "source": [
        "#backup schemas\n",
        "struct_schema =get_schema(PROJECT_ID, DATA_STORE_LOCATION, DATASTORE_ID)\n",
        "\n",
        "struct_schema_json = discoveryengine.Schema.to_json(struct_schema)\n",
        "struct_schema_json = json.loads(struct_schema_json)\n",
        "struct_schema_json = struct_schema_json['structSchema']\n",
        "\n",
        "with open(f'struct_schema_full_{DATASTORE_ID}.json', 'w') as outfile:\n",
        "  json.dump(struct_schema_json, outfile)\n"
      ]
    },
    {
      "cell_type": "markdown",
      "metadata": {},
      "source": [
        "# Import document example"
      ]
    },
    {
      "cell_type": "code",
      "execution_count": null,
      "metadata": {
        "id": "03121270-5d2f-403b-81ea-c1d241357bd1"
      },
      "outputs": [],
      "source": [
        "def import_documents(\n",
        "    project_id: str,\n",
        "    location: str,\n",
        "    data_store_id: str,\n",
        "    gcs_uri: str,\n",
        "):\n",
        "    # Create a client\n",
        "    client_options = (\n",
        "        ClientOptions(api_endpoint=f\"{location}-discoveryengine.googleapis.com\")\n",
        "        if location != \"global\"\n",
        "        else None\n",
        "    )\n",
        "    client = discoveryengine.DocumentServiceClient(client_options=client_options)\n",
        "\n",
        "    # The full resource name of the search engine branch.\n",
        "    # e.g. projects/{project}/locations/{location}/dataStores/{data_store_id}/branches/{branch}\n",
        "    parent = client.branch_path(\n",
        "        project=project_id,\n",
        "        location=location,\n",
        "        data_store=data_store_id,\n",
        "        branch=\"default_branch\",\n",
        "    )\n",
        "\n",
        "    source_documents = [f\"{gcs_uri}\"]\n",
        "\n",
        "    request = discoveryengine.ImportDocumentsRequest(\n",
        "        parent=parent,\n",
        "        gcs_source=discoveryengine.GcsSource(\n",
        "            input_uris=source_documents, data_schema=\"custom\" # CHANGE HERE \"custom\"\n",
        "        ),\n",
        "        # Options: `FULL`, `INCREMENTAL`\n",
        "        reconciliation_mode=discoveryengine.ImportDocumentsRequest.ReconciliationMode.INCREMENTAL,\n",
        "        id_field=\"id\" # CHANGE HERE id_field=\"id\"\n",
        "    )\n",
        "\n",
        "    # Make the request\n",
        "    operation = client.import_documents(request=request)\n",
        "\n",
        "    response = operation.result()\n",
        "\n",
        "    # Once the operation is complete,\n",
        "    # get information from operation metadata\n",
        "    metadata = discoveryengine.ImportDocumentsMetadata(operation.metadata)\n",
        "\n",
        "    # Handle the response\n",
        "    return operation.operation.name"
      ]
    },
    {
      "cell_type": "code",
      "execution_count": null,
      "metadata": {
        "colab": {
          "base_uri": "https://localhost:8080/",
          "height": 35
        },
        "id": "1ddfe66a-acb4-4fdb-b9ed-76a332bb0f0c",
        "outputId": "34770596-620f-4a82-9dc2-00ac6a3032df"
      },
      "outputs": [],
      "source": [
        "source_documents_gs_uri = (\n",
        "    # CHANGE HERE\n",
        "    #\"gs://video-search-content/picture/import_ds_gen_captions/caption_picture_30102024-00000-of-00320.jsonl\"\n",
        "    \"gs://ml-demo-eu/datasets/jsonl/picture_import_ds_gen_captions_caption_picture_30102024-00094-of-00320.jsonl\"\n",
        ")\n",
        "\n",
        "import_documents(PROJECT_ID, LOCATION, DATASTORE_ID, source_documents_gs_uri)"
      ]
    },
    {
      "cell_type": "markdown",
      "metadata": {
        "id": "7a957202-b67e-47ca-84c3-b8a62cfbe405"
      },
      "source": [
        "## Create a Search Engine\n",
        "\n",
        "This is used to set the `search_tier` to enterprise and to enable advanced LLM features.\n",
        "\n",
        "Enterprise tier is required to get extractive answers from a search query and advanced LLM features are required to summarize search results."
      ]
    },
    {
      "cell_type": "code",
      "execution_count": null,
      "metadata": {
        "id": "0e39e9bb-f381-44f6-a45e-3322669a171f"
      },
      "outputs": [],
      "source": [
        "def create_engine(\n",
        "    project_id: str, location: str, engine_name: str, data_store_id: str\n",
        "):\n",
        "    # Create a client\n",
        "    client_options = (\n",
        "        ClientOptions(api_endpoint=f\"{location}-discoveryengine.googleapis.com\")\n",
        "        if location != \"global\"\n",
        "        else None\n",
        "    )\n",
        "    client = discoveryengine.EngineServiceClient(client_options=client_options)\n",
        "\n",
        "    # Initialize request argument(s)\n",
        "    engine = discoveryengine.Engine(\n",
        "        display_name=engine_name,\n",
        "        solution_type=discoveryengine.SolutionType.SOLUTION_TYPE_SEARCH,\n",
        "        industry_vertical=discoveryengine.IndustryVertical.GENERIC,\n",
        "        data_store_ids=[data_store_id],\n",
        "        search_engine_config=discoveryengine.Engine.SearchEngineConfig(\n",
        "            search_tier=discoveryengine.SearchTier.SEARCH_TIER_ENTERPRISE,\n",
        "            search_add_ons=[discoveryengine.SearchAddOn.SEARCH_ADD_ON_LLM],\n",
        "        ),\n",
        "    )\n",
        "\n",
        "    request = discoveryengine.CreateEngineRequest(\n",
        "        parent=client.collection_path(project_id, location, \"default_collection\"),\n",
        "        engine=engine,\n",
        "        engine_id=engine.display_name,\n",
        "    )\n",
        "\n",
        "    # Make the request\n",
        "    operation = client.create_engine(request=request)\n",
        "    response = operation.result(timeout=90)"
      ]
    },
    {
      "cell_type": "code",
      "execution_count": null,
      "metadata": {
        "id": "4a853982-8c2e-402a-a808-5364bf932619"
      },
      "outputs": [],
      "source": [
        "ENGINE_NAME = DATASTORE_NAME\n",
        "ENGINE_ID = DATASTORE_ID\n",
        "create_engine(PROJECT_ID, LOCATION, ENGINE_NAME, DATASTORE_ID)"
      ]
    },
    {
      "cell_type": "markdown",
      "metadata": {
        "id": "e9f4d978-9164-4de3-b01a-179051706313"
      },
      "source": [
        "## Query your Search Engine\n",
        "\n",
        "Note: The Engine will take some time to be ready to query.\n",
        "\n",
        "If you recently created an engine and you receive an error similar to:\n",
        "\n",
        "`404 Engine {ENGINE_NAME} is not found`\n",
        "\n",
        "Then wait a few minutes and try your query again."
      ]
    },
    {
      "cell_type": "code",
      "execution_count": null,
      "metadata": {
        "id": "1c4dfb62-7846-43d0-9cba-fd8886ce5546"
      },
      "outputs": [],
      "source": [
        "def search_sample(\n",
        "    project_id: str,\n",
        "    location: str,\n",
        "    engine_id: str,\n",
        "    search_query: str,\n",
        ") -> list[discoveryengine.SearchResponse]:\n",
        "    #  For more information, refer to:\n",
        "    # https://cloud.google.com/generative-ai-app-builder/docs/locations#specify_a_multi-region_for_your_data_store\n",
        "    client_options = (\n",
        "        ClientOptions(api_endpoint=f\"{location}-discoveryengine.googleapis.com\")\n",
        "        if LOCATION != \"global\"\n",
        "        else None\n",
        "    )\n",
        "    print(client_options)\n",
        "\n",
        "    # Create a client\n",
        "    client = discoveryengine.SearchServiceClient(client_options=client_options)\n",
        "\n",
        "    # The full resource name of the search engine serving config\n",
        "    # e.g. projects/{project_id}/locations/{location}/dataStores/{data_store_id}/servingConfigs/{serving_config_id}\n",
        "    serving_config = f\"projects/{project_id}/locations/{location}/collections/default_collection/engines/{engine_id}/servingConfigs/default_search\" \n",
        "                     \n",
        "    # Optional: Configuration options for search\n",
        "    # Refer to the `ContentSearchSpec` reference for all supported fields:\n",
        "    # https://cloud.google.com/python/docs/reference/discoveryengine/latest/google.cloud.discoveryengine_v1.types.SearchRequest.ContentSearchSpec\n",
        "    content_search_spec = discoveryengine.SearchRequest.ContentSearchSpec(\n",
        "        # For information about snippets, refer to:\n",
        "        # https://cloud.google.com/generative-ai-app-builder/docs/snippets\n",
        "        snippet_spec=discoveryengine.SearchRequest.ContentSearchSpec.SnippetSpec(\n",
        "            return_snippet=True\n",
        "        ),\n",
        "        # For information about search summaries, refer to:\n",
        "        # https://cloud.google.com/generative-ai-app-builder/docs/get-search-summaries\n",
        "        summary_spec=discoveryengine.SearchRequest.ContentSearchSpec.SummarySpec(\n",
        "            summary_result_count=5,\n",
        "            include_citations=True,\n",
        "            ignore_adversarial_query=True,\n",
        "            ignore_non_summary_seeking_query=True,\n",
        "        ),\n",
        "    )\n",
        "\n",
        "    # Refer to the `SearchRequest` reference for all supported fields:\n",
        "    # https://cloud.google.com/python/docs/reference/discoveryengine/latest/google.cloud.discoveryengine_v1.types.SearchRequest\n",
        "    request = discoveryengine.SearchRequest(\n",
        "        serving_config=serving_config,\n",
        "        query=search_query,\n",
        "        page_size=20,\n",
        "        content_search_spec=content_search_spec,\n",
        "        query_expansion_spec=discoveryengine.SearchRequest.QueryExpansionSpec(\n",
        "            condition=discoveryengine.SearchRequest.QueryExpansionSpec.Condition.AUTO,\n",
        "        ),\n",
        "        spell_correction_spec=discoveryengine.SearchRequest.SpellCorrectionSpec(\n",
        "            mode=discoveryengine.SearchRequest.SpellCorrectionSpec.Mode.AUTO\n",
        "        ),\n",
        "    )\n",
        "\n",
        "    response = client.search(request)\n",
        "    return response"
      ]
    },
    {
      "cell_type": "code",
      "execution_count": null,
      "metadata": {
        "id": "X2C6rr_ddKoD"
      },
      "outputs": [],
      "source": []
    },
    {
      "cell_type": "markdown",
      "metadata": {},
      "source": [
        "# Test search"
      ]
    },
    {
      "cell_type": "code",
      "execution_count": null,
      "metadata": {
        "colab": {
          "base_uri": "https://localhost:8080/",
          "height": 706
        },
        "id": "ad41e18b-38d2-4f4c-98ae-df14eda900ae",
        "outputId": "a3018d84-4066-4005-a971-6569932fb590"
      },
      "outputs": [],
      "source": [
        "query = \"Toronto International Film Festival\"\n",
        "\n",
        "response = search_sample( PROJECT_ID, LOCATION, ENGINE_ID, query)\n",
        "\n",
        "print(response)"
      ]
    },
    {
      "cell_type": "markdown",
      "metadata": {
        "id": "hfHdFbA2DNzu"
      },
      "source": [
        "## Ranking API"
      ]
    },
    {
      "cell_type": "code",
      "execution_count": null,
      "metadata": {
        "id": "rnTcU1h0DPhu"
      },
      "outputs": [],
      "source": [
        "def rank(elements, search_query):\n",
        "    records = []\n",
        "    for gcs_path in [*elements]:\n",
        "        generated_caption = elements[gcs_path].get(\"generated_caption\")\n",
        "        caption = elements[gcs_path].get(\"caption\")\n",
        "        title = elements[gcs_path].get(\"title\")\n",
        "        print(generated_caption)\n",
        "        if generated_caption is None:\n",
        "            generated_caption = caption\n",
        "\n",
        "        record = discoveryengine.RankingRecord(\n",
        "            id=gcs_path,\n",
        "            title=title,\n",
        "            content=generated_caption,\n",
        "        )\n",
        "\n",
        "    records.append(record)\n",
        "\n",
        "    client = discoveryengine.RankServiceClient()\n",
        "\n",
        "    # The full resource name of the ranking config.\n",
        "    # Format: projects/{project_id}/locations/{location}/rankingConfigs/default_ranking_config\n",
        "    ranking_config = client.ranking_config_path(\n",
        "        project=PROJECT_ID,\n",
        "        location=LOCATION,\n",
        "        ranking_config=\"default_ranking_config\",\n",
        "    )\n",
        "    request = discoveryengine.RankRequest(\n",
        "        ranking_config=ranking_config,\n",
        "        model=\"semantic-ranker-512@latest\",\n",
        "        top_n=40,\n",
        "        query=search_query,\n",
        "        records=records  ,\n",
        "        ignore_record_details_in_response = True,\n",
        "    )\n",
        "\n",
        "    response = client.rank(request=request)\n",
        "    records = MessageToDict(response._pb)\n",
        "    # print(records)\n",
        "\n",
        "    ranking_scores = {doc['id']: doc for doc in records['records']}\n",
        "    for id in ranking_scores:\n",
        "        elements[id]['ranking'] = ranking_scores[id]['score']\n",
        "    # docs = [update_ranking_doc(d, ranking_scores) for d in docs]\n",
        "\n",
        "\n",
        "    return elements"
      ]
    },
    {
      "cell_type": "code",
      "execution_count": null,
      "metadata": {
        "id": "zcVmC15A79rO"
      },
      "outputs": [],
      "source": [
        "def convert_discovery_filter(filter_input):\n",
        "    \"\"\"\n",
        "    Converts a complex discovery search engine filter JSON structure into a Python dictionary.\n",
        "\n",
        "    Args:\n",
        "        filter_input (list): The input filter structure as a list of dictionaries.\n",
        "\n",
        "    Returns:\n",
        "        dict: The converted filter structure as a Python dictionary.\n",
        "    \"\"\"\n",
        "\n",
        "    def process_filter_element(element):\n",
        "        if isinstance(element, dict):\n",
        "            if \"exclude\" in element:\n",
        "                exclude_val = element[\"exclude\"]\n",
        "                if isinstance(exclude_val, list):\n",
        "                    return {\"exclude\": [process_filter_element(item) for item in exclude_val]}\n",
        "                else:\n",
        "                    return {\"exclude\": process_filter_element(exclude_val)}\n",
        "\n",
        "            elif \"or\" in element:\n",
        "                return {\"or\": [process_filter_element(item) for item in element[\"or\"]]}\n",
        "\n",
        "            elif \"and\" in element:\n",
        "                and_val = element[\"and\"]\n",
        "                if isinstance(and_val, list):\n",
        "                    return {\"and\": [process_filter_element(item) for item in and_val]}\n",
        "                else:\n",
        "                    return {\"and\": process_filter_element(and_val)}\n",
        "\n",
        "            elif \"name\" in element:\n",
        "                name = element[\"name\"]\n",
        "                result = {\"name\": name}\n",
        "                if \"range\" in element:\n",
        "                    result[\"range\"] = element[\"range\"]\n",
        "                if \"and\" in element:\n",
        "                    result[\"and\"] = element[\"and\"]\n",
        "                if \"in\" in element:\n",
        "                    result[\"in\"] = element[\"in\"]\n",
        "                if \"fullText\" in element:\n",
        "                    result[\"fullText\"] = element[\"fullText\"]\n",
        "                if \"contains\" in element:\n",
        "                    result[\"contains\"] = element[\"contains\"]\n",
        "                if \"exclude\" in element:\n",
        "                    result[\"exclude\"] = element[\"exclude\"]\n",
        "                if \"having\" in element:\n",
        "                    result[\"having\"] = element[\"having\"]\n",
        "                return result\n",
        "\n",
        "            else:\n",
        "                return element  # Return as is if no specific key is found\n",
        "\n",
        "        elif isinstance(element, list):\n",
        "            return [process_filter_element(item) for item in element]\n",
        "\n",
        "        else:\n",
        "            return element  # Return as is if not a dict or list\n",
        "\n",
        "    return [process_filter_element(item) for item in filter_input]\n"
      ]
    },
    {
      "cell_type": "code",
      "execution_count": null,
      "metadata": {
        "id": "xEPM6a8t8CYd"
      },
      "outputs": [],
      "source": [
        "\n",
        "# Example usage:\n",
        "filter_input = [\n",
        "    {\n",
        "        \"exclude\": [\n",
        "            {\n",
        "                \"name\": \"expires\",\n",
        "                \"range\": {\n",
        "                    \"fromExcluded\": False,\n",
        "                    \"to\": \"now\",\n",
        "                    \"toExcluded\": False\n",
        "                }\n",
        "            },\n",
        "            {\n",
        "                \"name\": \"status\",\n",
        "                \"and\": [\n",
        "                    \"withheld\"\n",
        "                ]\n",
        "            }\n",
        "        ]\n",
        "    }\n",
        "    ]\n",
        "\n"
      ]
    },
    {
      "cell_type": "code",
      "execution_count": null,
      "metadata": {
        "colab": {
          "base_uri": "https://localhost:8080/"
        },
        "id": "YcPmJ2Hz8QU5",
        "outputId": "1989ad0c-193c-451b-decb-fd5cee4c71b6"
      },
      "outputs": [],
      "source": [
        "converted_filter = convert_discovery_filter(filter_input)\n",
        "print(converted_filter)"
      ]
    }
  ],
  "metadata": {
    "colab": {
      "name": "create_datastore_and_search (2).ipynb",
      "provenance": [],
      "toc_visible": true
    },
    "kernelspec": {
      "display_name": "genai-rag-1",
      "language": "python",
      "name": "genai-rag-1"
    },
    "language_info": {
      "codemirror_mode": {
        "name": "ipython",
        "version": 3
      },
      "file_extension": ".py",
      "mimetype": "text/x-python",
      "name": "python",
      "nbconvert_exporter": "python",
      "pygments_lexer": "ipython3",
      "version": "3.10.15"
    }
  },
  "nbformat": 4,
  "nbformat_minor": 0
}
